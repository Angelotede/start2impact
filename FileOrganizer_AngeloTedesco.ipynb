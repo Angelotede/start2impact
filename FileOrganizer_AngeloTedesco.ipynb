{
 "cells": [
  {
   "cell_type": "markdown",
   "id": "fbb71d08",
   "metadata": {},
   "source": [
    "STEP #1"
   ]
  },
  {
   "cell_type": "code",
   "execution_count": 1,
   "id": "b5060bea",
   "metadata": {},
   "outputs": [
    {
     "data": {
      "text/plain": [
       "'C:\\\\Users\\\\utente'"
      ]
     },
     "execution_count": 1,
     "metadata": {},
     "output_type": "execute_result"
    }
   ],
   "source": [
    "import os,shutil\n",
    "path=os.getcwd()\n",
    "os.getcwd()"
   ]
  },
  {
   "cell_type": "code",
   "execution_count": 2,
   "id": "20d86729",
   "metadata": {},
   "outputs": [],
   "source": [
    "path1=(\"\\\\FileOrganizer\\\\FileOrganizer\\\\files\\\\\")\n",
    "source=path+path1 #assegno la variabile di partenza per lo spostamento dei files\n",
    "os.chdir(path+path1) #mi sposto nella directory in cui voglio lavorare"
   ]
  },
  {
   "cell_type": "code",
   "execution_count": 3,
   "id": "072622eb",
   "metadata": {},
   "outputs": [],
   "source": [
    "import csv #importo csv per creare il recap"
   ]
  },
  {
   "cell_type": "code",
   "execution_count": 4,
   "id": "44138fcb",
   "metadata": {},
   "outputs": [
    {
     "name": "stdout",
     "output_type": "stream",
     "text": [
      "bw, type: image, size: 94926B\n",
      "ciao, type: doc, size: 12B\n",
      "daffodil, type: image, size: 24657B\n",
      "eclipse, type: image, size: 64243B\n",
      "pippo, type: doc, size: 8299B\n",
      "song1, type: audio, size: 1087849B\n",
      "song2, type: audio, size: 764176B\n",
      "trump, type: image, size: 10195B\n"
     ]
    }
   ],
   "source": [
    "with open('recap.csv', 'a',newline=\"\") as recap:\n",
    "    colonne=[\"name\",\"type\",\"size(B)\"]\n",
    "    reader = csv.reader(recap,delimiter=\",\")\n",
    "    writer = csv.writer(recap)\n",
    "    writer.writerows([colonne])\n",
    "    for file in sorted(os.listdir(source)):\n",
    "        writer.writerow([os.path.splitext(file)[-2],os.path.splitext(file)[-1],os.path.getsize(file)])\n",
    "        if file.endswith(\".mp3\"):\n",
    "            if os.path.isdir(\"audio\\\\\") == True:\n",
    "                print(\"{}, type: audio, size: {}B\" .format(os.path.splitext(file)[-2],os.path.getsize(file)))\n",
    "                shutil.move(source+file,audio)\n",
    "            elif os.path.isdir(\"audio\\\\\") == False:\n",
    "                os.makedirs(path+path1+\"audio\\\\\")\n",
    "                audio=path+path1+\"audio\"\n",
    "                print(\"{}, type: audio, size: {}B\" .format(os.path.splitext(file)[-2],os.path.getsize(file)))\n",
    "                shutil.move(source+file,audio)\n",
    "        if file.endswith(\".txt\") or file.endswith(\".odt\"):\n",
    "            if os.path.isdir(\"docs\\\\\") == True:\n",
    "                print(\"{}, type: doc, size: {}B\" .format(os.path.splitext(file)[-2],os.path.getsize(file)))\n",
    "                shutil.move(source+file,docs)\n",
    "            elif os.path.isdir(\"docs\\\\\") == False:\n",
    "                os.makedirs(path+path1+\"docs\\\\\")\n",
    "                docs=path+path1+\"docs\"\n",
    "                print(\"{}, type: doc, size: {}B\" .format(os.path.splitext(file)[-2],os.path.getsize(file)))\n",
    "                shutil.move(source+file,docs)\n",
    "        if file.endswith(\".jpeg\") or file.endswith(\".png\") or file.endswith(\"jpg\"):\n",
    "            if os.path.isdir(\"images\\\\\") == True:\n",
    "                print(\"{}, type: image, size: {}B\" .format(os.path.splitext(file)[-2],os.path.getsize(file)))\n",
    "                shutil.move(source+file,images)\n",
    "            elif os.path.isdir(\"images\\\\\") == False:\n",
    "                os.makedirs(path+path1+\"images\\\\\")\n",
    "                images=path+path1+\"images\"\n",
    "                print(\"{}, type: image, size: {}B\" .format(os.path.splitext(file)[-2],os.path.getsize(file)))\n",
    "                shutil.move(source+file,images)"
   ]
  },
  {
   "cell_type": "markdown",
   "id": "3d35f6a6",
   "metadata": {},
   "source": [
    "STEP #3"
   ]
  },
  {
   "cell_type": "code",
   "execution_count": 1,
   "id": "5c33a4c0",
   "metadata": {},
   "outputs": [],
   "source": [
    "import os, shutil, csv"
   ]
  },
  {
   "cell_type": "code",
   "execution_count": 2,
   "id": "23f9a22c",
   "metadata": {},
   "outputs": [
    {
     "data": {
      "text/plain": [
       "'C:\\\\Users\\\\utente'"
      ]
     },
     "execution_count": 2,
     "metadata": {},
     "output_type": "execute_result"
    }
   ],
   "source": [
    "path=os.getcwd()\n",
    "os.getcwd()"
   ]
  },
  {
   "cell_type": "code",
   "execution_count": 3,
   "id": "382dfae1",
   "metadata": {},
   "outputs": [],
   "source": [
    "src_images=(\"\\\\FileOrganizer\\\\FileOrganizer\\\\files\\\\images\\\\\") #assegno le variabili dei path\n",
    "os.chdir(path+src_images)"
   ]
  },
  {
   "cell_type": "code",
   "execution_count": 4,
   "id": "f3d35a27",
   "metadata": {},
   "outputs": [],
   "source": [
    "list_src=path+src_images #assegno il path di partenza"
   ]
  },
  {
   "cell_type": "code",
   "execution_count": 5,
   "id": "abcebc18",
   "metadata": {},
   "outputs": [],
   "source": [
    "import numpy as np \n",
    "from PIL import Image\n",
    "import matplotlib.pyplot as plt"
   ]
  },
  {
   "cell_type": "code",
   "execution_count": 6,
   "id": "44acafc0",
   "metadata": {},
   "outputs": [],
   "source": [
    "dati=[] #creo una lista di appoggio\n",
    "for image in sorted(os.listdir(list_src)):\n",
    "    [name, ext]= os.path.splitext(image) #estrapolo nome e estensione\n",
    "    array= np.array(Image.open(os.path.join(list_src+image))) #creo gli arrays\n",
    "    [a,l]= np.shape(array)[0:2] #estrapolo altezza e larghezza per ogni immagine\n",
    "    arr_dim = array.ndim #calcolo il numero di dimensioni per ogni immagine\n",
    "    arr_shape = array.shape #estrapolo il numero di canali\n",
    "    if arr_dim == 2: #in caso di immagine b/n\n",
    "        arr_mean = np.mean(array)\n",
    "        dati.append([(name),str(a),str(l),str(int(arr_mean))])\n",
    "    else:\n",
    "        arr_mean = np.mean(array, axis=(0,1))\n",
    "        if len(arr_mean) == 3: #In caso sia RGB\n",
    "            dati.append([(name),str(a),str(l),str(int(arr_mean[0])),str(int(arr_mean[1])),str(int(arr_mean[2]))]) \n",
    "        else: #canale ALPHA\n",
    "            dati.append([(name),str(a),str(l),\"0\",str(int(arr_mean[0])),str(int(arr_mean[1])),str(int(arr_mean[2])),str(int(arr_mean[3]))])"
   ]
  },
  {
   "cell_type": "code",
   "execution_count": 8,
   "id": "f7051747",
   "metadata": {},
   "outputs": [
    {
     "name": "stdout",
     "output_type": "stream",
     "text": [
      "╒══════════╤══════════╤═════════╤═════════════╤═════╤═════╤═════╤═════════╕\n",
      "│ name     │   height │   width │   grayscale │   R │   G │   B │   ALPHA │\n",
      "╞══════════╪══════════╪═════════╪═════════════╪═════╪═════╪═════╪═════════╡\n",
      "│ bw       │      512 │     512 │          21 │   0 │   0 │   0 │       0 │\n",
      "├──────────┼──────────┼─────────┼─────────────┼─────┼─────┼─────┼─────────┤\n",
      "│ daffodil │      500 │     335 │         109 │  85 │   4 │   0 │       0 │\n",
      "├──────────┼──────────┼─────────┼─────────────┼─────┼─────┼─────┼─────────┤\n",
      "│ eclipse  │      256 │     256 │           0 │ 109 │ 109 │  39 │     133 │\n",
      "├──────────┼──────────┼─────────┼─────────────┼─────┼─────┼─────┼─────────┤\n",
      "│ trump    │      183 │     275 │          97 │  98 │  90 │   0 │       0 │\n",
      "╘══════════╧══════════╧═════════╧═════════════╧═════╧═════╧═════╧═════════╛\n"
     ]
    }
   ],
   "source": [
    "from tabulate import tabulate #creo la tabella\n",
    "header=[\"name\",\"height\",\"width\",\"grayscale\",\"R\",\"G\",\"B\",\"ALPHA\"] \n",
    "print(tabulate(dati,headers=header,missingval='0',tablefmt=\"fancy_grid\"))"
   ]
  },
  {
   "cell_type": "code",
   "execution_count": null,
   "id": "eeaabc16",
   "metadata": {},
   "outputs": [],
   "source": []
  }
 ],
 "metadata": {
  "kernelspec": {
   "display_name": "Python 3",
   "language": "python",
   "name": "python3"
  },
  "language_info": {
   "codemirror_mode": {
    "name": "ipython",
    "version": 3
   },
   "file_extension": ".py",
   "mimetype": "text/x-python",
   "name": "python",
   "nbconvert_exporter": "python",
   "pygments_lexer": "ipython3",
   "version": "3.8.8"
  }
 },
 "nbformat": 4,
 "nbformat_minor": 5
}
